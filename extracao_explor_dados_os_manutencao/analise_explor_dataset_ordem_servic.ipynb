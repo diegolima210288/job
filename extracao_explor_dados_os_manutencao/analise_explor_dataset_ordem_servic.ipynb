{
 "cells": [
  {
   "cell_type": "markdown",
   "id": "b0e1333c",
   "metadata": {},
   "source": [
    "# Analise exploratoria dataset registros de ordem de serviço - Grupo Manutenção"
   ]
  },
  {
   "cell_type": "code",
   "execution_count": 1,
   "id": "1c49b0ed",
   "metadata": {},
   "outputs": [],
   "source": [
    "#importação das bibliotecas e pacotes\n",
    "import pandas as pd\n",
    "import numpy as np\n",
    "import seaborn as sns\n",
    "import matplotlib.pyplot as plt"
   ]
  },
  {
   "cell_type": "code",
   "execution_count": 2,
   "id": "43e303b6",
   "metadata": {},
   "outputs": [
    {
     "data": {
      "text/html": [
       "<div>\n",
       "<style scoped>\n",
       "    .dataframe tbody tr th:only-of-type {\n",
       "        vertical-align: middle;\n",
       "    }\n",
       "\n",
       "    .dataframe tbody tr th {\n",
       "        vertical-align: top;\n",
       "    }\n",
       "\n",
       "    .dataframe thead th {\n",
       "        text-align: right;\n",
       "    }\n",
       "</style>\n",
       "<table border=\"1\" class=\"dataframe\">\n",
       "  <thead>\n",
       "    <tr style=\"text-align: right;\">\n",
       "      <th></th>\n",
       "      <th>NR_ORDEM</th>\n",
       "      <th>DS_DIA_SEMANA_OS</th>\n",
       "      <th>DT_ORDEM_SERVICO</th>\n",
       "      <th>HR_ORDEM_SERVICO</th>\n",
       "      <th>DT_FIM_REAL</th>\n",
       "      <th>HR_FIM_REAL</th>\n",
       "      <th>TP_EXECUCAO_MIN</th>\n",
       "      <th>NR_GRUPO_TRABALHO</th>\n",
       "      <th>DS_EQUIPE_ATEND</th>\n",
       "      <th>DS_TP_SETOR</th>\n",
       "      <th>NR_SEQ_ESTAGIO</th>\n",
       "      <th>DS_ESTAGIO</th>\n",
       "      <th>IE_STATUS_ORDEM</th>\n",
       "      <th>DS_STATUS</th>\n",
       "      <th>DS_PRIORIDADE</th>\n",
       "      <th>DS_TIPO</th>\n",
       "    </tr>\n",
       "  </thead>\n",
       "  <tbody>\n",
       "    <tr>\n",
       "      <th>0</th>\n",
       "      <td>2216889</td>\n",
       "      <td>quinta-feira</td>\n",
       "      <td>17/03/2022</td>\n",
       "      <td>10:58:11</td>\n",
       "      <td>21/03/2022</td>\n",
       "      <td>12:00:45</td>\n",
       "      <td>5822</td>\n",
       "      <td>264</td>\n",
       "      <td>Sistema de Chaveiro</td>\n",
       "      <td>Administrativo</td>\n",
       "      <td>171</td>\n",
       "      <td>Concluída</td>\n",
       "      <td>3</td>\n",
       "      <td>Encerrado</td>\n",
       "      <td>Média</td>\n",
       "      <td>Manutenção corretiva</td>\n",
       "    </tr>\n",
       "    <tr>\n",
       "      <th>1</th>\n",
       "      <td>2303983</td>\n",
       "      <td>segunda-feira</td>\n",
       "      <td>04/07/2022</td>\n",
       "      <td>14:36:42</td>\n",
       "      <td>29/07/2022</td>\n",
       "      <td>10:06:10</td>\n",
       "      <td>35729</td>\n",
       "      <td>265</td>\n",
       "      <td>Sistema de Reparos em Geral</td>\n",
       "      <td>Administrativo</td>\n",
       "      <td>171</td>\n",
       "      <td>Concluída</td>\n",
       "      <td>3</td>\n",
       "      <td>Encerrado</td>\n",
       "      <td>Média</td>\n",
       "      <td>Manutenção corretiva</td>\n",
       "    </tr>\n",
       "    <tr>\n",
       "      <th>2</th>\n",
       "      <td>2240644</td>\n",
       "      <td>quinta-feira</td>\n",
       "      <td>07/04/2022</td>\n",
       "      <td>15:13:24</td>\n",
       "      <td>20/04/2022</td>\n",
       "      <td>15:15:41</td>\n",
       "      <td>18722</td>\n",
       "      <td>261</td>\n",
       "      <td>Sistema de Detecção de Alarme de Incêncio</td>\n",
       "      <td>Serviços Especiais</td>\n",
       "      <td>172</td>\n",
       "      <td>Cancelada</td>\n",
       "      <td>3</td>\n",
       "      <td>Encerrado</td>\n",
       "      <td>Sem prioridade</td>\n",
       "      <td>Manutenção preventiva</td>\n",
       "    </tr>\n",
       "    <tr>\n",
       "      <th>3</th>\n",
       "      <td>2240643</td>\n",
       "      <td>quinta-feira</td>\n",
       "      <td>07/04/2022</td>\n",
       "      <td>15:13:24</td>\n",
       "      <td>20/04/2022</td>\n",
       "      <td>15:15:28</td>\n",
       "      <td>18722</td>\n",
       "      <td>261</td>\n",
       "      <td>Sistema de Detecção de Alarme de Incêncio</td>\n",
       "      <td>Serviços Especiais</td>\n",
       "      <td>172</td>\n",
       "      <td>Cancelada</td>\n",
       "      <td>3</td>\n",
       "      <td>Encerrado</td>\n",
       "      <td>Sem prioridade</td>\n",
       "      <td>Manutenção preventiva</td>\n",
       "    </tr>\n",
       "    <tr>\n",
       "      <th>4</th>\n",
       "      <td>2240642</td>\n",
       "      <td>quinta-feira</td>\n",
       "      <td>07/04/2022</td>\n",
       "      <td>15:13:24</td>\n",
       "      <td>20/04/2022</td>\n",
       "      <td>15:15:06</td>\n",
       "      <td>18721</td>\n",
       "      <td>261</td>\n",
       "      <td>Sistema de Detecção de Alarme de Incêncio</td>\n",
       "      <td>Serviços Especiais</td>\n",
       "      <td>172</td>\n",
       "      <td>Cancelada</td>\n",
       "      <td>3</td>\n",
       "      <td>Encerrado</td>\n",
       "      <td>Baixa</td>\n",
       "      <td>Manutenção preventiva</td>\n",
       "    </tr>\n",
       "  </tbody>\n",
       "</table>\n",
       "</div>"
      ],
      "text/plain": [
       "   NR_ORDEM DS_DIA_SEMANA_OS DT_ORDEM_SERVICO HR_ORDEM_SERVICO DT_FIM_REAL  \\\n",
       "0   2216889    quinta-feira        17/03/2022         10:58:11  21/03/2022   \n",
       "1   2303983    segunda-feira       04/07/2022         14:36:42  29/07/2022   \n",
       "2   2240644    quinta-feira        07/04/2022         15:13:24  20/04/2022   \n",
       "3   2240643    quinta-feira        07/04/2022         15:13:24  20/04/2022   \n",
       "4   2240642    quinta-feira        07/04/2022         15:13:24  20/04/2022   \n",
       "\n",
       "  HR_FIM_REAL  TP_EXECUCAO_MIN  NR_GRUPO_TRABALHO  \\\n",
       "0    12:00:45             5822                264   \n",
       "1    10:06:10            35729                265   \n",
       "2    15:15:41            18722                261   \n",
       "3    15:15:28            18722                261   \n",
       "4    15:15:06            18721                261   \n",
       "\n",
       "                             DS_EQUIPE_ATEND         DS_TP_SETOR  \\\n",
       "0                        Sistema de Chaveiro      Administrativo   \n",
       "1                Sistema de Reparos em Geral      Administrativo   \n",
       "2  Sistema de Detecção de Alarme de Incêncio  Serviços Especiais   \n",
       "3  Sistema de Detecção de Alarme de Incêncio  Serviços Especiais   \n",
       "4  Sistema de Detecção de Alarme de Incêncio  Serviços Especiais   \n",
       "\n",
       "   NR_SEQ_ESTAGIO DS_ESTAGIO  IE_STATUS_ORDEM  DS_STATUS   DS_PRIORIDADE  \\\n",
       "0             171  Concluída                3  Encerrado           Média   \n",
       "1             171  Concluída                3  Encerrado           Média   \n",
       "2             172  Cancelada                3  Encerrado  Sem prioridade   \n",
       "3             172  Cancelada                3  Encerrado  Sem prioridade   \n",
       "4             172  Cancelada                3  Encerrado           Baixa   \n",
       "\n",
       "                 DS_TIPO  \n",
       "0   Manutenção corretiva  \n",
       "1   Manutenção corretiva  \n",
       "2  Manutenção preventiva  \n",
       "3  Manutenção preventiva  \n",
       "4  Manutenção preventiva  "
      ]
     },
     "execution_count": 2,
     "metadata": {},
     "output_type": "execute_result"
    }
   ],
   "source": [
    "#lendo o arquivo do dataset e apresentando algunas registros\n",
    "df = pd.read_excel('dataset_ordem_servico_gr_manut.xlsx')\n",
    "df.head()"
   ]
  },
  {
   "cell_type": "code",
   "execution_count": 3,
   "id": "c6dbdb47",
   "metadata": {},
   "outputs": [
    {
     "data": {
      "text/plain": [
       "(4187, 16)"
      ]
     },
     "execution_count": 3,
     "metadata": {},
     "output_type": "execute_result"
    }
   ],
   "source": [
    "#verificando o tamanho do dataset\n",
    "df.shape"
   ]
  },
  {
   "cell_type": "code",
   "execution_count": 4,
   "id": "18502be6",
   "metadata": {},
   "outputs": [
    {
     "name": "stdout",
     "output_type": "stream",
     "text": [
      "<class 'pandas.core.frame.DataFrame'>\n",
      "RangeIndex: 4187 entries, 0 to 4186\n",
      "Data columns (total 16 columns):\n",
      " #   Column             Non-Null Count  Dtype \n",
      "---  ------             --------------  ----- \n",
      " 0   NR_ORDEM           4187 non-null   int64 \n",
      " 1   DS_DIA_SEMANA_OS   4187 non-null   object\n",
      " 2   DT_ORDEM_SERVICO   4187 non-null   object\n",
      " 3   HR_ORDEM_SERVICO   4187 non-null   object\n",
      " 4   DT_FIM_REAL        3722 non-null   object\n",
      " 5   HR_FIM_REAL        3722 non-null   object\n",
      " 6   TP_EXECUCAO_MIN    4187 non-null   int64 \n",
      " 7   NR_GRUPO_TRABALHO  4187 non-null   int64 \n",
      " 8   DS_EQUIPE_ATEND    4187 non-null   object\n",
      " 9   DS_TP_SETOR        4187 non-null   object\n",
      " 10  NR_SEQ_ESTAGIO     4187 non-null   int64 \n",
      " 11  DS_ESTAGIO         4187 non-null   object\n",
      " 12  IE_STATUS_ORDEM    4187 non-null   int64 \n",
      " 13  DS_STATUS          4187 non-null   object\n",
      " 14  DS_PRIORIDADE      4187 non-null   object\n",
      " 15  DS_TIPO            4164 non-null   object\n",
      "dtypes: int64(5), object(11)\n",
      "memory usage: 523.5+ KB\n"
     ]
    }
   ],
   "source": [
    "#verificando tipos de dados e presença de missing\n",
    "df.info()"
   ]
  },
  {
   "cell_type": "code",
   "execution_count": 5,
   "id": "113ee143",
   "metadata": {},
   "outputs": [
    {
     "data": {
      "text/plain": [
       "Index(['NR_ORDEM', 'DS_DIA_SEMANA_OS', 'DT_ORDEM_SERVICO', 'HR_ORDEM_SERVICO',\n",
       "       'DT_FIM_REAL', 'HR_FIM_REAL', 'TP_EXECUCAO_MIN', 'NR_GRUPO_TRABALHO',\n",
       "       'DS_EQUIPE_ATEND', 'DS_TP_SETOR', 'NR_SEQ_ESTAGIO', 'DS_ESTAGIO',\n",
       "       'IE_STATUS_ORDEM', 'DS_STATUS', 'DS_PRIORIDADE', 'DS_TIPO'],\n",
       "      dtype='object')"
      ]
     },
     "execution_count": 5,
     "metadata": {},
     "output_type": "execute_result"
    }
   ],
   "source": [
    "#verificando nome das colunas\n",
    "df.columns"
   ]
  },
  {
   "cell_type": "code",
   "execution_count": 6,
   "id": "1e9915bd",
   "metadata": {},
   "outputs": [],
   "source": [
    "#retirando colunas IDs\n",
    "df = df[['DS_DIA_SEMANA_OS', 'DT_ORDEM_SERVICO', 'HR_ORDEM_SERVICO', 'DT_FIM_REAL', 'HR_FIM_REAL', 'TP_EXECUCAO_MIN', \n",
    "       'DS_EQUIPE_ATEND', 'DS_TP_SETOR', 'DS_ESTAGIO', 'IE_STATUS_ORDEM', 'DS_STATUS', 'DS_PRIORIDADE', 'DS_TIPO']]"
   ]
  },
  {
   "cell_type": "code",
   "execution_count": 7,
   "id": "18182491",
   "metadata": {},
   "outputs": [],
   "source": [
    "#incluindo conlunas de quantidade de horas de execução\n",
    "df['TP_EXECUCAO_HR'] = round(df[['TP_EXECUCAO_MIN']]/60)"
   ]
  },
  {
   "cell_type": "code",
   "execution_count": 8,
   "id": "dc57283c",
   "metadata": {},
   "outputs": [],
   "source": [
    "#incluindo conlunas de quantidade de dias de execução\n",
    "df['TP_EXECUCAO_DIAS'] = round(df[['TP_EXECUCAO_HR']]/60)"
   ]
  },
  {
   "cell_type": "markdown",
   "id": "92e555cc",
   "metadata": {},
   "source": [
    "# Analise grafica"
   ]
  },
  {
   "cell_type": "code",
   "execution_count": 32,
   "id": "4de0f56b",
   "metadata": {},
   "outputs": [
    {
     "data": {
      "text/plain": [
       "Index(['DS_DIA_SEMANA_OS', 'DT_ORDEM_SERVICO', 'HR_ORDEM_SERVICO',\n",
       "       'DT_FIM_REAL', 'HR_FIM_REAL', 'TP_EXECUCAO_MIN', 'DS_EQUIPE_ATEND',\n",
       "       'DS_TP_SETOR', 'DS_ESTAGIO', 'IE_STATUS_ORDEM', 'DS_STATUS',\n",
       "       'DS_PRIORIDADE', 'DS_TIPO', 'TP_EXECUCAO_HR', 'TP_EXECUCAO_DIAS'],\n",
       "      dtype='object')"
      ]
     },
     "execution_count": 32,
     "metadata": {},
     "output_type": "execute_result"
    }
   ],
   "source": [
    "df.columns"
   ]
  },
  {
   "cell_type": "code",
   "execution_count": 49,
   "id": "5b09ea9d",
   "metadata": {},
   "outputs": [],
   "source": [
    "#proporção de OSs por status\n",
    "prop_os_status = round((df['DS_STATUS'].value_counts() * 100) / len(df))"
   ]
  },
  {
   "cell_type": "code",
   "execution_count": 111,
   "id": "427b9609",
   "metadata": {},
   "outputs": [
    {
     "data": {
      "image/png": "[encoded data removed]",
      "text/plain": [
       "<Figure size 432x288 with 1 Axes>"
      ]
     },
     "metadata": {},
     "output_type": "display_data"
    }
   ],
   "source": [
    "prop_os_status.plot(kind='pie');"
   ]
  },
  {
   "cell_type": "code",
   "execution_count": 55,
   "id": "d8ab4f16",
   "metadata": {},
   "outputs": [],
   "source": [
    "#quantidade de OSs por dia da semana\n",
    "qt_os_dias_semana = df['DS_DIA_SEMANA_OS'].value_counts()"
   ]
  },
  {
   "cell_type": "code",
   "execution_count": 58,
   "id": "12841e36",
   "metadata": {},
   "outputs": [
    {
     "data": {
      "image/png": "[encoded data removed]",
      "text/plain": [
       "<Figure size 432x288 with 1 Axes>"
      ]
     },
     "metadata": {
      "needs_background": "light"
     },
     "output_type": "display_data"
    }
   ],
   "source": [
    "qt_os_dias_semana.plot(kind='bar');"
   ]
  },
  {
   "cell_type": "code",
   "execution_count": 36,
   "id": "51ddf273",
   "metadata": {},
   "outputs": [],
   "source": [
    "#quantidade de OSs por equipe de atendimento\n",
    "qt_os_equipe = df['DS_EQUIPE_ATEND'].value_counts()"
   ]
  },
  {
   "cell_type": "code",
   "execution_count": 118,
   "id": "afeb1d9c",
   "metadata": {},
   "outputs": [
    {
     "data": {
      "image/png": "[encoded data removed]",
      "text/plain": [
       "<Figure size 432x288 with 1 Axes>"
      ]
     },
     "metadata": {
      "needs_background": "light"
     },
     "output_type": "display_data"
    }
   ],
   "source": [
    "qt_os_equipe.plot(kind='bar');"
   ]
  },
  {
   "cell_type": "code",
   "execution_count": 70,
   "id": "674f0124",
   "metadata": {},
   "outputs": [
    {
     "data": {
      "text/plain": [
       "Index(['DS_DIA_SEMANA_OS', 'DT_ORDEM_SERVICO', 'HR_ORDEM_SERVICO',\n",
       "       'DT_FIM_REAL', 'HR_FIM_REAL', 'TP_EXECUCAO_MIN', 'DS_EQUIPE_ATEND',\n",
       "       'DS_TP_SETOR', 'DS_ESTAGIO', 'IE_STATUS_ORDEM', 'DS_STATUS',\n",
       "       'DS_PRIORIDADE', 'DS_TIPO', 'TP_EXECUCAO_HR', 'TP_EXECUCAO_DIAS'],\n",
       "      dtype='object')"
      ]
     },
     "execution_count": 70,
     "metadata": {},
     "output_type": "execute_result"
    }
   ],
   "source": [
    "df.columns"
   ]
  },
  {
   "cell_type": "code",
   "execution_count": 71,
   "id": "5d71b493",
   "metadata": {},
   "outputs": [],
   "source": [
    "#analisando a quantidade de minutos de execução de OS do equipe de atendimento que mais atendeu X menos atendeu\n",
    "df2 = df[['DS_EQUIPE_ATEND', 'TP_EXECUCAO_MIN', 'TP_EXECUCAO_HR', 'TP_EXECUCAO_DIAS']]"
   ]
  },
  {
   "cell_type": "code",
   "execution_count": 93,
   "id": "98bd92fc",
   "metadata": {},
   "outputs": [
    {
     "data": {
      "text/plain": [
       "<AxesSubplot:xlabel='DS_EQUIPE_ATEND', ylabel='TP_EXECUCAO_MIN'>"
      ]
     },
     "execution_count": 93,
     "metadata": {},
     "output_type": "execute_result"
    },
    {
     "data": {
      "image/png": "[encoded data removed]",
      "text/plain": [
       "<Figure size 432x288 with 1 Axes>"
      ]
     },
     "metadata": {
      "needs_background": "light"
     },
     "output_type": "display_data"
    }
   ],
   "source": [
    "sns.boxplot(data=df2[df2['DS_EQUIPE_ATEND'].isin (['Sistema de Ar-Condicionado','Monitoramento'])]\n",
    "                     , x='DS_EQUIPE_ATEND', y='TP_EXECUCAO_MIN')"
   ]
  },
  {
   "cell_type": "code",
   "execution_count": 102,
   "id": "723efb3b",
   "metadata": {},
   "outputs": [],
   "source": [
    "#Analisando o tipo de setor que mais abriu OS para a equipe que mais atendeu\n",
    "df3 = df[df['DS_EQUIPE_ATEND'] == 'Sistema de Ar-Condicionado']"
   ]
  },
  {
   "cell_type": "code",
   "execution_count": 106,
   "id": "e905ee49",
   "metadata": {},
   "outputs": [],
   "source": [
    "tp_setor = df3['DS_TP_SETOR'].value_counts()"
   ]
  },
  {
   "cell_type": "code",
   "execution_count": 119,
   "id": "bc3ee01c",
   "metadata": {},
   "outputs": [
    {
     "data": {
      "image/png": "[encoded data removed]",
      "text/plain": [
       "<Figure size 432x288 with 1 Axes>"
      ]
     },
     "metadata": {
      "needs_background": "light"
     },
     "output_type": "display_data"
    }
   ],
   "source": [
    "tp_setor.plot(kind='bar');"
   ]
  },
  {
   "cell_type": "code",
   "execution_count": 134,
   "id": "cc869b9c",
   "metadata": {},
   "outputs": [
    {
     "data": {
      "image/png": "[encoded data removed]",
      "text/plain": [
       "<Figure size 432x288 with 1 Axes>"
      ]
     },
     "metadata": {
      "needs_background": "light"
     },
     "output_type": "display_data"
    }
   ],
   "source": [
    "#analisando os estagio das OS da equipe que mais atendeu\n",
    "sns.histplot(data=df3, x='DS_ESTAGIO');"
   ]
  },
  {
   "cell_type": "code",
   "execution_count": 126,
   "id": "795f65ac",
   "metadata": {},
   "outputs": [],
   "source": [
    "#Analisando o tipo de setor que mais abriu OS para a equipe que menos atendeu\n",
    "df4 = df[df['DS_EQUIPE_ATEND'] == 'Monitoramento']"
   ]
  },
  {
   "cell_type": "code",
   "execution_count": 127,
   "id": "d8646588",
   "metadata": {},
   "outputs": [],
   "source": [
    "tp_setor2 = df4['DS_TP_SETOR'].value_counts()"
   ]
  },
  {
   "cell_type": "code",
   "execution_count": 130,
   "id": "b4257aca",
   "metadata": {},
   "outputs": [
    {
     "data": {
      "image/png": "[encoded data removed]",
      "text/plain": [
       "<Figure size 432x288 with 1 Axes>"
      ]
     },
     "metadata": {
      "needs_background": "light"
     },
     "output_type": "display_data"
    }
   ],
   "source": [
    "tp_setor2.plot(kind='bar');"
   ]
  },
  {
   "cell_type": "code",
   "execution_count": 135,
   "id": "eabe9985",
   "metadata": {},
   "outputs": [
    {
     "data": {
      "image/png": "[encoded data removed]",
      "text/plain": [
       "<Figure size 432x288 with 1 Axes>"
      ]
     },
     "metadata": {
      "needs_background": "light"
     },
     "output_type": "display_data"
    }
   ],
   "source": [
    "#analisando os estagio das OS da equipe que mais atendeu\n",
    "sns.histplot(data=df4, x='DS_ESTAGIO');"
   ]
  },
  {
   "cell_type": "markdown",
   "id": "21f2eca0-1dcd-4601-918f-83d3ae47b33c",
   "metadata": {},
   "source": [
    "# Analisando a frequencia e as quantiades das colunas DS_STATUS e DS_ESTAGIO"
   ]
  },
  {
   "cell_type": "code",
   "execution_count": 10,
   "id": "43365cea",
   "metadata": {},
   "outputs": [],
   "source": [
    "frequencia = df['DS_STATUS'].value_counts()"
   ]
  },
  {
   "cell_type": "code",
   "execution_count": 20,
   "id": "a8e70906-0fd5-4995-911a-63ab9566a95c",
   "metadata": {},
   "outputs": [],
   "source": [
    "porcentual = df['DS_STATUS'].value_counts(normalize=True) * 100"
   ]
  },
  {
   "cell_type": "code",
   "execution_count": 21,
   "id": "0065c139-bb32-41e1-a98a-130ef5afb370",
   "metadata": {},
   "outputs": [
    {
     "data": {
      "text/html": [
       "<div>\n",
       "<style scoped>\n",
       "    .dataframe tbody tr th:only-of-type {\n",
       "        vertical-align: middle;\n",
       "    }\n",
       "\n",
       "    .dataframe tbody tr th {\n",
       "        vertical-align: top;\n",
       "    }\n",
       "\n",
       "    .dataframe thead th {\n",
       "        text-align: right;\n",
       "    }\n",
       "</style>\n",
       "<table border=\"1\" class=\"dataframe\">\n",
       "  <thead>\n",
       "    <tr style=\"text-align: right;\">\n",
       "      <th></th>\n",
       "      <th>frequencia</th>\n",
       "      <th>porcentual</th>\n",
       "    </tr>\n",
       "  </thead>\n",
       "  <tbody>\n",
       "    <tr>\n",
       "      <th>Encerrado</th>\n",
       "      <td>3722</td>\n",
       "      <td>88.894196</td>\n",
       "    </tr>\n",
       "    <tr>\n",
       "      <th>Aberta</th>\n",
       "      <td>262</td>\n",
       "      <td>6.257464</td>\n",
       "    </tr>\n",
       "    <tr>\n",
       "      <th>Processo</th>\n",
       "      <td>203</td>\n",
       "      <td>4.848340</td>\n",
       "    </tr>\n",
       "  </tbody>\n",
       "</table>\n",
       "</div>"
      ],
      "text/plain": [
       "           frequencia  porcentual\n",
       "Encerrado        3722   88.894196\n",
       "Aberta            262    6.257464\n",
       "Processo          203    4.848340"
      ]
     },
     "execution_count": 21,
     "metadata": {},
     "output_type": "execute_result"
    }
   ],
   "source": [
    "df_status = pd.DataFrame({'frequencia': frequencia, 'porcentual': porcentual})\n",
    "df_status"
   ]
  },
  {
   "cell_type": "code",
   "execution_count": 23,
   "id": "624f985f-3461-4042-963d-47ed97a84e08",
   "metadata": {},
   "outputs": [],
   "source": [
    "frequencia = df['DS_ESTAGIO'].value_counts()"
   ]
  },
  {
   "cell_type": "code",
   "execution_count": 24,
   "id": "ef7669c2-eba4-47c0-9600-ed2ec86bec70",
   "metadata": {},
   "outputs": [],
   "source": [
    "porcentual = df['DS_ESTAGIO'].value_counts(normalize=True) * 100"
   ]
  },
  {
   "cell_type": "code",
   "execution_count": 28,
   "id": "d3ffc8ae-fc53-4d68-8859-89056803e343",
   "metadata": {},
   "outputs": [
    {
     "data": {
      "text/html": [
       "<div>\n",
       "<style scoped>\n",
       "    .dataframe tbody tr th:only-of-type {\n",
       "        vertical-align: middle;\n",
       "    }\n",
       "\n",
       "    .dataframe tbody tr th {\n",
       "        vertical-align: top;\n",
       "    }\n",
       "\n",
       "    .dataframe thead th {\n",
       "        text-align: right;\n",
       "    }\n",
       "</style>\n",
       "<table border=\"1\" class=\"dataframe\">\n",
       "  <thead>\n",
       "    <tr style=\"text-align: right;\">\n",
       "      <th></th>\n",
       "      <th>frequencia</th>\n",
       "      <th>porcentual</th>\n",
       "    </tr>\n",
       "  </thead>\n",
       "  <tbody>\n",
       "    <tr>\n",
       "      <th>Aberta</th>\n",
       "      <td>218</td>\n",
       "      <td>5.206592</td>\n",
       "    </tr>\n",
       "    <tr>\n",
       "      <th>Aguardando aprovação</th>\n",
       "      <td>1</td>\n",
       "      <td>0.023883</td>\n",
       "    </tr>\n",
       "    <tr>\n",
       "      <th>Aguardando atendimento</th>\n",
       "      <td>3</td>\n",
       "      <td>0.071650</td>\n",
       "    </tr>\n",
       "    <tr>\n",
       "      <th>Aguardando fornecedor</th>\n",
       "      <td>11</td>\n",
       "      <td>0.262718</td>\n",
       "    </tr>\n",
       "    <tr>\n",
       "      <th>Aguardando material</th>\n",
       "      <td>38</td>\n",
       "      <td>0.907571</td>\n",
       "    </tr>\n",
       "    <tr>\n",
       "      <th>Aguardando programação</th>\n",
       "      <td>3</td>\n",
       "      <td>0.071650</td>\n",
       "    </tr>\n",
       "    <tr>\n",
       "      <th>Cancelada</th>\n",
       "      <td>222</td>\n",
       "      <td>5.302126</td>\n",
       "    </tr>\n",
       "    <tr>\n",
       "      <th>Concluída</th>\n",
       "      <td>3464</td>\n",
       "      <td>82.732267</td>\n",
       "    </tr>\n",
       "    <tr>\n",
       "      <th>Em Análise</th>\n",
       "      <td>13</td>\n",
       "      <td>0.310485</td>\n",
       "    </tr>\n",
       "    <tr>\n",
       "      <th>Em atendimento</th>\n",
       "      <td>183</td>\n",
       "      <td>4.370671</td>\n",
       "    </tr>\n",
       "    <tr>\n",
       "      <th>Encaminhado</th>\n",
       "      <td>1</td>\n",
       "      <td>0.023883</td>\n",
       "    </tr>\n",
       "    <tr>\n",
       "      <th>Redirecionado</th>\n",
       "      <td>30</td>\n",
       "      <td>0.716503</td>\n",
       "    </tr>\n",
       "  </tbody>\n",
       "</table>\n",
       "</div>"
      ],
      "text/plain": [
       "                        frequencia  porcentual\n",
       "Aberta                         218    5.206592\n",
       "Aguardando aprovação             1    0.023883\n",
       "Aguardando atendimento           3    0.071650\n",
       "Aguardando fornecedor           11    0.262718\n",
       "Aguardando material             38    0.907571\n",
       "Aguardando programação           3    0.071650\n",
       "Cancelada                      222    5.302126\n",
       "Concluída                     3464   82.732267\n",
       "Em Análise                      13    0.310485\n",
       "Em atendimento                 183    4.370671\n",
       "Encaminhado                      1    0.023883\n",
       "Redirecionado                   30    0.716503"
      ]
     },
     "execution_count": 28,
     "metadata": {},
     "output_type": "execute_result"
    }
   ],
   "source": [
    "df_estagio = pd.DataFrame({'frequencia': frequencia, 'porcentual': porcentual})\n",
    "df_estagio.sort_index()"
   ]
  },
  {
   "cell_type": "code",
   "execution_count": 31,
   "id": "80642855-8ca3-4047-b1c7-7c6361a00110",
   "metadata": {},
   "outputs": [
    {
     "data": {
      "text/html": [
       "<div>\n",
       "<style scoped>\n",
       "    .dataframe tbody tr th:only-of-type {\n",
       "        vertical-align: middle;\n",
       "    }\n",
       "\n",
       "    .dataframe tbody tr th {\n",
       "        vertical-align: top;\n",
       "    }\n",
       "\n",
       "    .dataframe thead th {\n",
       "        text-align: right;\n",
       "    }\n",
       "</style>\n",
       "<table border=\"1\" class=\"dataframe\">\n",
       "  <thead>\n",
       "    <tr style=\"text-align: right;\">\n",
       "      <th>DS_ESTAGIO</th>\n",
       "      <th>Aberta</th>\n",
       "      <th>Aguardando aprovação</th>\n",
       "      <th>Aguardando atendimento</th>\n",
       "      <th>Aguardando fornecedor</th>\n",
       "      <th>Aguardando material</th>\n",
       "      <th>Aguardando programação</th>\n",
       "      <th>Cancelada</th>\n",
       "      <th>Concluída</th>\n",
       "      <th>Em Análise</th>\n",
       "      <th>Em atendimento</th>\n",
       "      <th>Encaminhado</th>\n",
       "      <th>Redirecionado</th>\n",
       "    </tr>\n",
       "    <tr>\n",
       "      <th>DS_STATUS</th>\n",
       "      <th></th>\n",
       "      <th></th>\n",
       "      <th></th>\n",
       "      <th></th>\n",
       "      <th></th>\n",
       "      <th></th>\n",
       "      <th></th>\n",
       "      <th></th>\n",
       "      <th></th>\n",
       "      <th></th>\n",
       "      <th></th>\n",
       "      <th></th>\n",
       "    </tr>\n",
       "  </thead>\n",
       "  <tbody>\n",
       "    <tr>\n",
       "      <th>Aberta</th>\n",
       "      <td>212</td>\n",
       "      <td>1</td>\n",
       "      <td>3</td>\n",
       "      <td>0</td>\n",
       "      <td>33</td>\n",
       "      <td>0</td>\n",
       "      <td>0</td>\n",
       "      <td>11</td>\n",
       "      <td>0</td>\n",
       "      <td>0</td>\n",
       "      <td>1</td>\n",
       "      <td>1</td>\n",
       "    </tr>\n",
       "    <tr>\n",
       "      <th>Encerrado</th>\n",
       "      <td>6</td>\n",
       "      <td>0</td>\n",
       "      <td>0</td>\n",
       "      <td>4</td>\n",
       "      <td>3</td>\n",
       "      <td>3</td>\n",
       "      <td>222</td>\n",
       "      <td>3453</td>\n",
       "      <td>0</td>\n",
       "      <td>2</td>\n",
       "      <td>0</td>\n",
       "      <td>29</td>\n",
       "    </tr>\n",
       "    <tr>\n",
       "      <th>Processo</th>\n",
       "      <td>0</td>\n",
       "      <td>0</td>\n",
       "      <td>0</td>\n",
       "      <td>7</td>\n",
       "      <td>2</td>\n",
       "      <td>0</td>\n",
       "      <td>0</td>\n",
       "      <td>0</td>\n",
       "      <td>13</td>\n",
       "      <td>181</td>\n",
       "      <td>0</td>\n",
       "      <td>0</td>\n",
       "    </tr>\n",
       "  </tbody>\n",
       "</table>\n",
       "</div>"
      ],
      "text/plain": [
       "DS_ESTAGIO  Aberta  Aguardando aprovação  Aguardando atendimento  \\\n",
       "DS_STATUS                                                          \n",
       "Aberta         212                     1                       3   \n",
       "Encerrado        6                     0                       0   \n",
       "Processo         0                     0                       0   \n",
       "\n",
       "DS_ESTAGIO  Aguardando fornecedor  Aguardando material  \\\n",
       "DS_STATUS                                                \n",
       "Aberta                          0                   33   \n",
       "Encerrado                       4                    3   \n",
       "Processo                        7                    2   \n",
       "\n",
       "DS_ESTAGIO  Aguardando programação  Cancelada  Concluída  Em Análise  \\\n",
       "DS_STATUS                                                              \n",
       "Aberta                           0          0         11           0   \n",
       "Encerrado                        3        222       3453           0   \n",
       "Processo                         0          0          0          13   \n",
       "\n",
       "DS_ESTAGIO  Em atendimento  Encaminhado   Redirecionado  \n",
       "DS_STATUS                                                \n",
       "Aberta                   0             1              1  \n",
       "Encerrado                2             0             29  \n",
       "Processo               181             0              0  "
      ]
     },
     "execution_count": 31,
     "metadata": {},
     "output_type": "execute_result"
    }
   ],
   "source": [
    "pd.crosstab(df['DS_STATUS'], df['DS_ESTAGIO'])"
   ]
  },
  {
   "cell_type": "code",
   "execution_count": null,
   "id": "08cf9435-3a97-4b9c-81f0-28d9defa82fc",
   "metadata": {},
   "outputs": [],
   "source": []
  }
 ],
 "metadata": {
  "kernelspec": {
   "display_name": "Python 3 (ipykernel)",
   "language": "python",
   "name": "python3"
  },
  "language_info": {
   "codemirror_mode": {
    "name": "ipython",
    "version": 3
   },
   "file_extension": ".py",
   "mimetype": "text/x-python",
   "name": "python",
   "nbconvert_exporter": "python",
   "pygments_lexer": "ipython3",
   "version": "3.9.12"
  }
 },
 "nbformat": 4,
 "nbformat_minor": 5
}
