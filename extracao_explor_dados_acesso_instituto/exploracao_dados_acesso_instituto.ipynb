{
 "cells": [
  {
   "cell_type": "markdown",
   "id": "8cec3d5c",
   "metadata": {},
   "source": [
    "# Exploração dos dados de acesso ao Instituto"
   ]
  },
  {
   "cell_type": "code",
   "execution_count": 1,
   "id": "e6a57b33",
   "metadata": {},
   "outputs": [],
   "source": [
    "#importação bibliotecas e pacotes\n",
    "\n",
    "import pandas as pd\n",
    "import numpy as np\n",
    "import statistics\n",
    "\n",
    "import seaborn as sns\n",
    "import matplotlib.pyplot as plt"
   ]
  },
  {
   "cell_type": "markdown",
   "id": "d289830e",
   "metadata": {},
   "source": [
    "# Analise e normalização dos dados"
   ]
  },
  {
   "cell_type": "code",
   "execution_count": 21,
   "id": "0314b2c1",
   "metadata": {},
   "outputs": [
    {
     "data": {
      "text/html": [
       "<div>\n",
       "<style scoped>\n",
       "    .dataframe tbody tr th:only-of-type {\n",
       "        vertical-align: middle;\n",
       "    }\n",
       "\n",
       "    .dataframe tbody tr th {\n",
       "        vertical-align: top;\n",
       "    }\n",
       "\n",
       "    .dataframe thead th {\n",
       "        text-align: right;\n",
       "    }\n",
       "</style>\n",
       "<table border=\"1\" class=\"dataframe\">\n",
       "  <thead>\n",
       "    <tr style=\"text-align: right;\">\n",
       "      <th></th>\n",
       "      <th>NR_FICHA</th>\n",
       "      <th>TP_ATENDIMENTO</th>\n",
       "      <th>NR_CONTROLE</th>\n",
       "      <th>CD_PESSOA</th>\n",
       "      <th>DT_ENTRADA</th>\n",
       "      <th>HR_ENTRADA</th>\n",
       "      <th>DS_TURNO</th>\n",
       "      <th>DS_DIA_SEMANA</th>\n",
       "      <th>DT_SAIDA</th>\n",
       "      <th>HR_SAIDA</th>\n",
       "      <th>IE_SEXO</th>\n",
       "      <th>QT_IDADE_ANOS</th>\n",
       "      <th>DS_TIPO</th>\n",
       "      <th>DS_SETOR</th>\n",
       "      <th>NM_PAIS</th>\n",
       "      <th>SG_ESTADO</th>\n",
       "      <th>DS_MUNICIPIO</th>\n",
       "      <th>NR_SEQ_COR_PELE</th>\n",
       "    </tr>\n",
       "  </thead>\n",
       "  <tbody>\n",
       "    <tr>\n",
       "      <th>0</th>\n",
       "      <td>10445229.0</td>\n",
       "      <td>Autoatendimento</td>\n",
       "      <td>20000164</td>\n",
       "      <td>1522000</td>\n",
       "      <td>03/01/2022</td>\n",
       "      <td>06:24:38</td>\n",
       "      <td>Manhã</td>\n",
       "      <td>segunda-feira</td>\n",
       "      <td>03/01/2022</td>\n",
       "      <td>11:45:24</td>\n",
       "      <td>F</td>\n",
       "      <td>50</td>\n",
       "      <td>Acompanhante</td>\n",
       "      <td>Serviços Especiais</td>\n",
       "      <td>NaN</td>\n",
       "      <td>NaN</td>\n",
       "      <td>NaN</td>\n",
       "      <td>1.0</td>\n",
       "    </tr>\n",
       "    <tr>\n",
       "      <th>1</th>\n",
       "      <td>10445232.0</td>\n",
       "      <td>Autoatendimento</td>\n",
       "      <td>20000166</td>\n",
       "      <td>1573724</td>\n",
       "      <td>03/01/2022</td>\n",
       "      <td>06:25:35</td>\n",
       "      <td>Manhã</td>\n",
       "      <td>segunda-feira</td>\n",
       "      <td>03/01/2022</td>\n",
       "      <td>13:54:10</td>\n",
       "      <td>F</td>\n",
       "      <td>62</td>\n",
       "      <td>Acompanhante</td>\n",
       "      <td>Serviços Especiais</td>\n",
       "      <td>NaN</td>\n",
       "      <td>NaN</td>\n",
       "      <td>NaN</td>\n",
       "      <td>12.0</td>\n",
       "    </tr>\n",
       "    <tr>\n",
       "      <th>2</th>\n",
       "      <td>10445246.0</td>\n",
       "      <td>Autoatendimento</td>\n",
       "      <td>20000168</td>\n",
       "      <td>1472491</td>\n",
       "      <td>03/01/2022</td>\n",
       "      <td>06:26:34</td>\n",
       "      <td>Manhã</td>\n",
       "      <td>segunda-feira</td>\n",
       "      <td>03/01/2022</td>\n",
       "      <td>23:59:59</td>\n",
       "      <td>F</td>\n",
       "      <td>37</td>\n",
       "      <td>Acompanhante</td>\n",
       "      <td>Serviços Especiais</td>\n",
       "      <td>NaN</td>\n",
       "      <td>NaN</td>\n",
       "      <td>NaN</td>\n",
       "      <td>NaN</td>\n",
       "    </tr>\n",
       "    <tr>\n",
       "      <th>3</th>\n",
       "      <td>10445812.0</td>\n",
       "      <td>Outros</td>\n",
       "      <td>41143667</td>\n",
       "      <td>1547149</td>\n",
       "      <td>03/01/2022</td>\n",
       "      <td>08:12:09</td>\n",
       "      <td>Manhã</td>\n",
       "      <td>segunda-feira</td>\n",
       "      <td>03/01/2022</td>\n",
       "      <td>10:34:48</td>\n",
       "      <td>NaN</td>\n",
       "      <td>50</td>\n",
       "      <td>Acompanhante</td>\n",
       "      <td>Serviços Especiais</td>\n",
       "      <td>NaN</td>\n",
       "      <td>NaN</td>\n",
       "      <td>NaN</td>\n",
       "      <td>NaN</td>\n",
       "    </tr>\n",
       "    <tr>\n",
       "      <th>4</th>\n",
       "      <td>10445888.0</td>\n",
       "      <td>Outros</td>\n",
       "      <td>41143889</td>\n",
       "      <td>1582486</td>\n",
       "      <td>03/01/2022</td>\n",
       "      <td>08:24:04</td>\n",
       "      <td>Manhã</td>\n",
       "      <td>segunda-feira</td>\n",
       "      <td>03/01/2022</td>\n",
       "      <td>23:59:59</td>\n",
       "      <td>F</td>\n",
       "      <td>34</td>\n",
       "      <td>Acompanhante</td>\n",
       "      <td>Serviços Especiais</td>\n",
       "      <td>NaN</td>\n",
       "      <td>NaN</td>\n",
       "      <td>NaN</td>\n",
       "      <td>NaN</td>\n",
       "    </tr>\n",
       "  </tbody>\n",
       "</table>\n",
       "</div>"
      ],
      "text/plain": [
       "     NR_FICHA   TP_ATENDIMENTO  NR_CONTROLE  CD_PESSOA  DT_ENTRADA HR_ENTRADA  \\\n",
       "0  10445229.0  Autoatendimento     20000164    1522000  03/01/2022   06:24:38   \n",
       "1  10445232.0  Autoatendimento     20000166    1573724  03/01/2022   06:25:35   \n",
       "2  10445246.0  Autoatendimento     20000168    1472491  03/01/2022   06:26:34   \n",
       "3  10445812.0           Outros     41143667    1547149  03/01/2022   08:12:09   \n",
       "4  10445888.0           Outros     41143889    1582486  03/01/2022   08:24:04   \n",
       "\n",
       "  DS_TURNO  DS_DIA_SEMANA    DT_SAIDA  HR_SAIDA IE_SEXO  QT_IDADE_ANOS  \\\n",
       "0    Manhã  segunda-feira  03/01/2022  11:45:24       F             50   \n",
       "1    Manhã  segunda-feira  03/01/2022  13:54:10       F             62   \n",
       "2    Manhã  segunda-feira  03/01/2022  23:59:59       F             37   \n",
       "3    Manhã  segunda-feira  03/01/2022  10:34:48     NaN             50   \n",
       "4    Manhã  segunda-feira  03/01/2022  23:59:59       F             34   \n",
       "\n",
       "        DS_TIPO            DS_SETOR NM_PAIS SG_ESTADO DS_MUNICIPIO  \\\n",
       "0  Acompanhante  Serviços Especiais     NaN       NaN          NaN   \n",
       "1  Acompanhante  Serviços Especiais     NaN       NaN          NaN   \n",
       "2  Acompanhante  Serviços Especiais     NaN       NaN          NaN   \n",
       "3  Acompanhante  Serviços Especiais     NaN       NaN          NaN   \n",
       "4  Acompanhante  Serviços Especiais     NaN       NaN          NaN   \n",
       "\n",
       "   NR_SEQ_COR_PELE  \n",
       "0              1.0  \n",
       "1             12.0  \n",
       "2              NaN  \n",
       "3              NaN  \n",
       "4              NaN  "
      ]
     },
     "execution_count": 21,
     "metadata": {},
     "output_type": "execute_result"
    }
   ],
   "source": [
    "df = pd.read_excel('dataset_acesso_instituto.xlsx')\n",
    "df.head()"
   ]
  },
  {
   "cell_type": "code",
   "execution_count": 22,
   "id": "af3e0ed2",
   "metadata": {},
   "outputs": [
    {
     "data": {
      "text/plain": [
       "(871995, 18)"
      ]
     },
     "execution_count": 22,
     "metadata": {},
     "output_type": "execute_result"
    }
   ],
   "source": [
    "df.shape"
   ]
  },
  {
   "cell_type": "code",
   "execution_count": 26,
   "id": "9a587446",
   "metadata": {},
   "outputs": [],
   "source": [
    "#extraindo o mês da data\n",
    "df['MES'] = pd.DatetimeIndex(df['DT_ENTRADA']).month"
   ]
  },
  {
   "cell_type": "code",
   "execution_count": 27,
   "id": "3f925f59",
   "metadata": {},
   "outputs": [],
   "source": [
    "#alterando valor coluna mês para descritivo\n",
    "ds_mes = []\n",
    "for i in df['MES'].values:\n",
    "    if i == 1:\n",
    "        ds_mes.append('Janeiro')\n",
    "    elif i == 2:\n",
    "        ds_mes.append('Fevereiro')\n",
    "    elif i == 3:\n",
    "        ds_mes.append('Março')\n",
    "    elif i == 4:\n",
    "        ds_mes.append('Abril')\n",
    "    elif i == 5:\n",
    "        ds_mes.append('Maio')\n",
    "    elif i == 6:\n",
    "        ds_mes.append('Junho')\n",
    "    elif i == 7:\n",
    "        ds_mes.append('Julho')\n",
    "    elif i == 8:\n",
    "        ds_mes.append('Agosto')\n",
    "    elif i == 9:\n",
    "        ds_mes.append('Setembro')\n",
    "    elif i == 10:\n",
    "        ds_mes.append('Outubro')\n",
    "    elif i == 11:\n",
    "        ds_mes.append('Novembro')\n",
    "    elif i == 12:\n",
    "        ds_mes.append('Dezembro')\n",
    "        \n",
    "df['DS_MES'] = ds_mes"
   ]
  },
  {
   "cell_type": "code",
   "execution_count": 28,
   "id": "50825ac9",
   "metadata": {},
   "outputs": [],
   "source": [
    "#incluindo a conluna DS_TIPO2\n",
    "ds_tipo2 = []\n",
    "for i in df['DS_TIPO'].values:\n",
    "    if i != 'Acompanhante' and i != 'Cliente':\n",
    "        ds_tipo2.append('Visitante')\n",
    "    else:\n",
    "        ds_tipo2.append(i)\n",
    "\n",
    "df['DS_TIPO2'] = ds_tipo2"
   ]
  },
  {
   "cell_type": "code",
   "execution_count": 29,
   "id": "be3e5b0d",
   "metadata": {},
   "outputs": [
    {
     "name": "stdout",
     "output_type": "stream",
     "text": [
      "<class 'pandas.core.frame.DataFrame'>\n",
      "RangeIndex: 871995 entries, 0 to 871994\n",
      "Data columns (total 21 columns):\n",
      " #   Column           Non-Null Count   Dtype  \n",
      "---  ------           --------------   -----  \n",
      " 0   NR_FICHA         871959 non-null  float64\n",
      " 1   TP_ATENDIMENTO   871995 non-null  object \n",
      " 2   NR_CONTROLE      871995 non-null  int64  \n",
      " 3   CD_PESSOA        871995 non-null  int64  \n",
      " 4   DT_ENTRADA       871995 non-null  object \n",
      " 5   HR_ENTRADA       871995 non-null  object \n",
      " 6   DS_TURNO         871995 non-null  object \n",
      " 7   DS_DIA_SEMANA    871995 non-null  object \n",
      " 8   DT_SAIDA         871979 non-null  object \n",
      " 9   HR_SAIDA         871979 non-null  object \n",
      " 10  IE_SEXO          853615 non-null  object \n",
      " 11  QT_IDADE_ANOS    871995 non-null  int64  \n",
      " 12  DS_TIPO          871995 non-null  object \n",
      " 13  DS_SETOR         871927 non-null  object \n",
      " 14  NM_PAIS          480036 non-null  object \n",
      " 15  SG_ESTADO        487007 non-null  object \n",
      " 16  DS_MUNICIPIO     486836 non-null  object \n",
      " 17  NR_SEQ_COR_PELE  641589 non-null  float64\n",
      " 18  MES              871995 non-null  int64  \n",
      " 19  DS_MES           871995 non-null  object \n",
      " 20  DS_TIPO2         871995 non-null  object \n",
      "dtypes: float64(2), int64(4), object(15)\n",
      "memory usage: 139.7+ MB\n"
     ]
    }
   ],
   "source": [
    "#verificando os tipos de dados e apresença de NAs\n",
    "df.info()"
   ]
  },
  {
   "cell_type": "code",
   "execution_count": 30,
   "id": "b3f01d5d",
   "metadata": {},
   "outputs": [],
   "source": [
    "#eliminando valores NAs da coluna IE_SEXO com valor da MODA\n",
    "df['IE_SEXO'] = df['IE_SEXO'].replace(to_replace = np.nan, value = statistics.mode(df['IE_SEXO']))"
   ]
  },
  {
   "cell_type": "code",
   "execution_count": 31,
   "id": "492e948d",
   "metadata": {},
   "outputs": [],
   "source": [
    "#eliminando valores NAs da coluna DS_SETOR com valor da MODA\n",
    "df['DS_SETOR'] = df['DS_SETOR'].replace(to_replace = np.nan, value = statistics.mode(df['DS_SETOR']))"
   ]
  },
  {
   "cell_type": "code",
   "execution_count": 32,
   "id": "081e3a6c",
   "metadata": {},
   "outputs": [],
   "source": [
    "#eliminando valores NAs da coluna HR_SAIDA com valor '23:59:59'\n",
    "df['HR_SAIDA'] = df['HR_SAIDA'].replace(to_replace = np.nan, value = '23:59:59')"
   ]
  },
  {
   "cell_type": "code",
   "execution_count": 33,
   "id": "a5da8c61",
   "metadata": {},
   "outputs": [],
   "source": [
    "#eliminando valores NAs da coluna HR_SAIDA com valores da coluna DT_ENTRADA\n",
    "df['DT_SAIDA'].fillna(df['DT_ENTRADA'], inplace=True)"
   ]
  },
  {
   "cell_type": "code",
   "execution_count": 34,
   "id": "f9c27299",
   "metadata": {},
   "outputs": [],
   "source": [
    "#ordenacao das colunas e retirada das colunas ID's\n",
    "colunas_ordenadas = ['TP_ATENDIMENTO', 'DT_ENTRADA', 'HR_ENTRADA', 'DS_TURNO', 'DS_MES', 'DS_DIA_SEMANA', 'DT_SAIDA', 'HR_SAIDA',\n",
    "       'IE_SEXO', 'QT_IDADE_ANOS', 'NR_SEQ_COR_PELE', 'DS_TIPO2', 'DS_SETOR', 'NM_PAIS', 'SG_ESTADO', 'DS_MUNICIPIO']"
   ]
  },
  {
   "cell_type": "code",
   "execution_count": 35,
   "id": "167a53a8",
   "metadata": {},
   "outputs": [],
   "source": [
    "df = df[colunas_ordenadas]"
   ]
  },
  {
   "cell_type": "code",
   "execution_count": 36,
   "id": "5d50962b",
   "metadata": {},
   "outputs": [
    {
     "data": {
      "text/html": [
       "<div>\n",
       "<style scoped>\n",
       "    .dataframe tbody tr th:only-of-type {\n",
       "        vertical-align: middle;\n",
       "    }\n",
       "\n",
       "    .dataframe tbody tr th {\n",
       "        vertical-align: top;\n",
       "    }\n",
       "\n",
       "    .dataframe thead th {\n",
       "        text-align: right;\n",
       "    }\n",
       "</style>\n",
       "<table border=\"1\" class=\"dataframe\">\n",
       "  <thead>\n",
       "    <tr style=\"text-align: right;\">\n",
       "      <th></th>\n",
       "      <th>TP_ATENDIMENTO</th>\n",
       "      <th>DT_ENTRADA</th>\n",
       "      <th>HR_ENTRADA</th>\n",
       "      <th>DS_TURNO</th>\n",
       "      <th>DS_MES</th>\n",
       "      <th>DS_DIA_SEMANA</th>\n",
       "      <th>DT_SAIDA</th>\n",
       "      <th>HR_SAIDA</th>\n",
       "      <th>IE_SEXO</th>\n",
       "      <th>QT_IDADE_ANOS</th>\n",
       "      <th>NR_SEQ_COR_PELE</th>\n",
       "      <th>DS_TIPO2</th>\n",
       "      <th>DS_SETOR</th>\n",
       "      <th>NM_PAIS</th>\n",
       "      <th>SG_ESTADO</th>\n",
       "      <th>DS_MUNICIPIO</th>\n",
       "    </tr>\n",
       "  </thead>\n",
       "  <tbody>\n",
       "    <tr>\n",
       "      <th>0</th>\n",
       "      <td>Autoatendimento</td>\n",
       "      <td>03/01/2022</td>\n",
       "      <td>06:24:38</td>\n",
       "      <td>Manhã</td>\n",
       "      <td>Março</td>\n",
       "      <td>segunda-feira</td>\n",
       "      <td>03/01/2022</td>\n",
       "      <td>11:45:24</td>\n",
       "      <td>F</td>\n",
       "      <td>50</td>\n",
       "      <td>1.0</td>\n",
       "      <td>Acompanhante</td>\n",
       "      <td>Serviços Especiais</td>\n",
       "      <td>NaN</td>\n",
       "      <td>NaN</td>\n",
       "      <td>NaN</td>\n",
       "    </tr>\n",
       "    <tr>\n",
       "      <th>1</th>\n",
       "      <td>Autoatendimento</td>\n",
       "      <td>03/01/2022</td>\n",
       "      <td>06:25:35</td>\n",
       "      <td>Manhã</td>\n",
       "      <td>Março</td>\n",
       "      <td>segunda-feira</td>\n",
       "      <td>03/01/2022</td>\n",
       "      <td>13:54:10</td>\n",
       "      <td>F</td>\n",
       "      <td>62</td>\n",
       "      <td>12.0</td>\n",
       "      <td>Acompanhante</td>\n",
       "      <td>Serviços Especiais</td>\n",
       "      <td>NaN</td>\n",
       "      <td>NaN</td>\n",
       "      <td>NaN</td>\n",
       "    </tr>\n",
       "    <tr>\n",
       "      <th>2</th>\n",
       "      <td>Autoatendimento</td>\n",
       "      <td>03/01/2022</td>\n",
       "      <td>06:26:34</td>\n",
       "      <td>Manhã</td>\n",
       "      <td>Março</td>\n",
       "      <td>segunda-feira</td>\n",
       "      <td>03/01/2022</td>\n",
       "      <td>23:59:59</td>\n",
       "      <td>F</td>\n",
       "      <td>37</td>\n",
       "      <td>NaN</td>\n",
       "      <td>Acompanhante</td>\n",
       "      <td>Serviços Especiais</td>\n",
       "      <td>NaN</td>\n",
       "      <td>NaN</td>\n",
       "      <td>NaN</td>\n",
       "    </tr>\n",
       "    <tr>\n",
       "      <th>3</th>\n",
       "      <td>Outros</td>\n",
       "      <td>03/01/2022</td>\n",
       "      <td>08:12:09</td>\n",
       "      <td>Manhã</td>\n",
       "      <td>Março</td>\n",
       "      <td>segunda-feira</td>\n",
       "      <td>03/01/2022</td>\n",
       "      <td>10:34:48</td>\n",
       "      <td>F</td>\n",
       "      <td>50</td>\n",
       "      <td>NaN</td>\n",
       "      <td>Acompanhante</td>\n",
       "      <td>Serviços Especiais</td>\n",
       "      <td>NaN</td>\n",
       "      <td>NaN</td>\n",
       "      <td>NaN</td>\n",
       "    </tr>\n",
       "    <tr>\n",
       "      <th>4</th>\n",
       "      <td>Outros</td>\n",
       "      <td>03/01/2022</td>\n",
       "      <td>08:24:04</td>\n",
       "      <td>Manhã</td>\n",
       "      <td>Março</td>\n",
       "      <td>segunda-feira</td>\n",
       "      <td>03/01/2022</td>\n",
       "      <td>23:59:59</td>\n",
       "      <td>F</td>\n",
       "      <td>34</td>\n",
       "      <td>NaN</td>\n",
       "      <td>Acompanhante</td>\n",
       "      <td>Serviços Especiais</td>\n",
       "      <td>NaN</td>\n",
       "      <td>NaN</td>\n",
       "      <td>NaN</td>\n",
       "    </tr>\n",
       "  </tbody>\n",
       "</table>\n",
       "</div>"
      ],
      "text/plain": [
       "    TP_ATENDIMENTO  DT_ENTRADA HR_ENTRADA DS_TURNO DS_MES  DS_DIA_SEMANA  \\\n",
       "0  Autoatendimento  03/01/2022   06:24:38    Manhã  Março  segunda-feira   \n",
       "1  Autoatendimento  03/01/2022   06:25:35    Manhã  Março  segunda-feira   \n",
       "2  Autoatendimento  03/01/2022   06:26:34    Manhã  Março  segunda-feira   \n",
       "3           Outros  03/01/2022   08:12:09    Manhã  Março  segunda-feira   \n",
       "4           Outros  03/01/2022   08:24:04    Manhã  Março  segunda-feira   \n",
       "\n",
       "     DT_SAIDA  HR_SAIDA IE_SEXO  QT_IDADE_ANOS  NR_SEQ_COR_PELE      DS_TIPO2  \\\n",
       "0  03/01/2022  11:45:24       F             50              1.0  Acompanhante   \n",
       "1  03/01/2022  13:54:10       F             62             12.0  Acompanhante   \n",
       "2  03/01/2022  23:59:59       F             37              NaN  Acompanhante   \n",
       "3  03/01/2022  10:34:48       F             50              NaN  Acompanhante   \n",
       "4  03/01/2022  23:59:59       F             34              NaN  Acompanhante   \n",
       "\n",
       "             DS_SETOR NM_PAIS SG_ESTADO DS_MUNICIPIO  \n",
       "0  Serviços Especiais     NaN       NaN          NaN  \n",
       "1  Serviços Especiais     NaN       NaN          NaN  \n",
       "2  Serviços Especiais     NaN       NaN          NaN  \n",
       "3  Serviços Especiais     NaN       NaN          NaN  \n",
       "4  Serviços Especiais     NaN       NaN          NaN  "
      ]
     },
     "execution_count": 36,
     "metadata": {},
     "output_type": "execute_result"
    }
   ],
   "source": [
    "df.head()"
   ]
  },
  {
   "cell_type": "code",
   "execution_count": null,
   "id": "ceea18e8-739c-4f28-a018-6ce97b0d42d6",
   "metadata": {},
   "outputs": [],
   "source": [
    "#analisando quantidade registro por cor da pela"
   ]
  },
  {
   "cell_type": "code",
   "execution_count": 41,
   "id": "7f04e2d5-3a81-4fff-bee2-318abc665256",
   "metadata": {},
   "outputs": [],
   "source": [
    "porcentual_cor = df['NR_SEQ_COR_PELE'].value_counts(normalize=True) * 100"
   ]
  },
  {
   "cell_type": "code",
   "execution_count": 47,
   "id": "79f7964d-2039-4ae2-b35b-5b3dbe2be7fe",
   "metadata": {},
   "outputs": [],
   "source": [
    "frequencia_cor = df['NR_SEQ_COR_PELE'].value_counts()"
   ]
  },
  {
   "cell_type": "code",
   "execution_count": 48,
   "id": "e5d94171-daab-48b0-a09b-c5cb7640a83f",
   "metadata": {},
   "outputs": [],
   "source": [
    "dis_freq_qualitativas_cor = pd.DataFrame({'Frequência': frequencia_cor, 'Porcentual': porcentual_cor})"
   ]
  },
  {
   "cell_type": "code",
   "execution_count": 49,
   "id": "2bd6eaf9-dec5-4218-82e9-518711e9ffd9",
   "metadata": {},
   "outputs": [
    {
     "data": {
      "text/html": [
       "<div>\n",
       "<style scoped>\n",
       "    .dataframe tbody tr th:only-of-type {\n",
       "        vertical-align: middle;\n",
       "    }\n",
       "\n",
       "    .dataframe tbody tr th {\n",
       "        vertical-align: top;\n",
       "    }\n",
       "\n",
       "    .dataframe thead th {\n",
       "        text-align: right;\n",
       "    }\n",
       "</style>\n",
       "<table border=\"1\" class=\"dataframe\">\n",
       "  <thead>\n",
       "    <tr style=\"text-align: right;\">\n",
       "      <th></th>\n",
       "      <th>Frequência</th>\n",
       "      <th>Porcentual</th>\n",
       "    </tr>\n",
       "  </thead>\n",
       "  <tbody>\n",
       "    <tr>\n",
       "      <th>1.0</th>\n",
       "      <td>400134</td>\n",
       "      <td>62.366094</td>\n",
       "    </tr>\n",
       "    <tr>\n",
       "      <th>11.0</th>\n",
       "      <td>165479</td>\n",
       "      <td>25.792057</td>\n",
       "    </tr>\n",
       "    <tr>\n",
       "      <th>2.0</th>\n",
       "      <td>59081</td>\n",
       "      <td>9.208543</td>\n",
       "    </tr>\n",
       "    <tr>\n",
       "      <th>12.0</th>\n",
       "      <td>11004</td>\n",
       "      <td>1.715117</td>\n",
       "    </tr>\n",
       "    <tr>\n",
       "      <th>3.0</th>\n",
       "      <td>5819</td>\n",
       "      <td>0.906967</td>\n",
       "    </tr>\n",
       "    <tr>\n",
       "      <th>4.0</th>\n",
       "      <td>72</td>\n",
       "      <td>0.011222</td>\n",
       "    </tr>\n",
       "  </tbody>\n",
       "</table>\n",
       "</div>"
      ],
      "text/plain": [
       "      Frequência  Porcentual\n",
       "1.0       400134   62.366094\n",
       "11.0      165479   25.792057\n",
       "2.0        59081    9.208543\n",
       "12.0       11004    1.715117\n",
       "3.0         5819    0.906967\n",
       "4.0           72    0.011222"
      ]
     },
     "execution_count": 49,
     "metadata": {},
     "output_type": "execute_result"
    }
   ],
   "source": [
    "dis_freq_qualitativas_cor"
   ]
  },
  {
   "cell_type": "code",
   "execution_count": 64,
   "id": "6cc3f210-cd7f-4d3f-a04e-699cfa8835bd",
   "metadata": {},
   "outputs": [],
   "source": [
    "dis_freq_qualitativas_cor.rename(index = {1: 'Branca', 2: 'Negro', 3: 'Amarela', 4: 'Indígena', 5: 'Ignorado', 11: 'Parda', 12: 'Sem Informação'}, inplace=True)"
   ]
  },
  {
   "cell_type": "code",
   "execution_count": 65,
   "id": "2c7c52f8-8674-4a8c-b374-7fe92aa5eddd",
   "metadata": {},
   "outputs": [],
   "source": [
    "dis_freq_qualitativas_cor.rename_axis('Cor', axis='columns', inplace=True)"
   ]
  },
  {
   "cell_type": "code",
   "execution_count": 66,
   "id": "37d1f7f9-9ad8-4d0b-abed-a8ca9788f956",
   "metadata": {},
   "outputs": [
    {
     "data": {
      "text/html": [
       "<div>\n",
       "<style scoped>\n",
       "    .dataframe tbody tr th:only-of-type {\n",
       "        vertical-align: middle;\n",
       "    }\n",
       "\n",
       "    .dataframe tbody tr th {\n",
       "        vertical-align: top;\n",
       "    }\n",
       "\n",
       "    .dataframe thead th {\n",
       "        text-align: right;\n",
       "    }\n",
       "</style>\n",
       "<table border=\"1\" class=\"dataframe\">\n",
       "  <thead>\n",
       "    <tr style=\"text-align: right;\">\n",
       "      <th>Cor</th>\n",
       "      <th>Frequência</th>\n",
       "      <th>Porcentual</th>\n",
       "    </tr>\n",
       "  </thead>\n",
       "  <tbody>\n",
       "    <tr>\n",
       "      <th>Branca</th>\n",
       "      <td>400134</td>\n",
       "      <td>62.366094</td>\n",
       "    </tr>\n",
       "    <tr>\n",
       "      <th>Parda</th>\n",
       "      <td>165479</td>\n",
       "      <td>25.792057</td>\n",
       "    </tr>\n",
       "    <tr>\n",
       "      <th>Negro</th>\n",
       "      <td>59081</td>\n",
       "      <td>9.208543</td>\n",
       "    </tr>\n",
       "    <tr>\n",
       "      <th>Sem Informação</th>\n",
       "      <td>11004</td>\n",
       "      <td>1.715117</td>\n",
       "    </tr>\n",
       "    <tr>\n",
       "      <th>Amarela</th>\n",
       "      <td>5819</td>\n",
       "      <td>0.906967</td>\n",
       "    </tr>\n",
       "    <tr>\n",
       "      <th>Indígena</th>\n",
       "      <td>72</td>\n",
       "      <td>0.011222</td>\n",
       "    </tr>\n",
       "  </tbody>\n",
       "</table>\n",
       "</div>"
      ],
      "text/plain": [
       "Cor             Frequência  Porcentual\n",
       "Branca              400134   62.366094\n",
       "Parda               165479   25.792057\n",
       "Negro                59081    9.208543\n",
       "Sem Informação       11004    1.715117\n",
       "Amarela               5819    0.906967\n",
       "Indígena                72    0.011222"
      ]
     },
     "execution_count": 66,
     "metadata": {},
     "output_type": "execute_result"
    }
   ],
   "source": [
    "dis_freq_qualitativas_cor"
   ]
  },
  {
   "cell_type": "code",
   "execution_count": 74,
   "id": "c9627b41-924e-434d-84a9-d07e9ea7ad72",
   "metadata": {},
   "outputs": [
    {
     "data": {
      "image/png": "[encoded data removed]",
      "text/plain": [
       "<Figure size 432x288 with 1 Axes>"
      ]
     },
     "metadata": {
      "needs_background": "light"
     },
     "output_type": "display_data"
    }
   ],
   "source": [
    "dis_freq_qualitativas_cor['Porcentual'].plot(kind='bar');"
   ]
  },
  {
   "cell_type": "code",
   "execution_count": null,
   "id": "f391a97f-af7a-44be-a40b-84439c84dd38",
   "metadata": {},
   "outputs": [],
   "source": [
    "#analisando quantidade registro por sexo"
   ]
  },
  {
   "cell_type": "code",
   "execution_count": 50,
   "id": "b6864172-d121-4753-932d-b50526f7c989",
   "metadata": {},
   "outputs": [],
   "source": [
    "freq_sexo = df['IE_SEXO'].value_counts()"
   ]
  },
  {
   "cell_type": "code",
   "execution_count": 51,
   "id": "ee3f9642-c464-412a-8028-dab724fa4d07",
   "metadata": {},
   "outputs": [],
   "source": [
    "porcentual_sexo = df['IE_SEXO'].value_counts(normalize=True) * 100"
   ]
  },
  {
   "cell_type": "code",
   "execution_count": 54,
   "id": "bf9410ef-217b-4f33-8e5a-bc528b1fcd13",
   "metadata": {},
   "outputs": [],
   "source": [
    "dist_freq_qualitativa_sexo = pd.DataFrame({'Frequência': freq_sexo, 'Porcentual': porcentual_sexo})"
   ]
  },
  {
   "cell_type": "code",
   "execution_count": 59,
   "id": "18c9584f-9cdf-40e5-bbd2-2f2147ad2bd7",
   "metadata": {},
   "outputs": [],
   "source": [
    "dist_freq_qualitativa_sexo.rename(index = {'M': 'Masculino', 'F': 'Feminino', 'I': 'Não informado'}, inplace=True)"
   ]
  },
  {
   "cell_type": "code",
   "execution_count": 62,
   "id": "0a7a50c5-d804-4788-9eae-bfa4182d4e03",
   "metadata": {},
   "outputs": [],
   "source": [
    "dist_freq_qualitativa_sexo.rename_axis('Sexo', axis='columns', inplace=True)"
   ]
  },
  {
   "cell_type": "code",
   "execution_count": 63,
   "id": "08c01239-cf54-4d02-828e-ce2fa3f4f46a",
   "metadata": {},
   "outputs": [
    {
     "data": {
      "text/html": [
       "<div>\n",
       "<style scoped>\n",
       "    .dataframe tbody tr th:only-of-type {\n",
       "        vertical-align: middle;\n",
       "    }\n",
       "\n",
       "    .dataframe tbody tr th {\n",
       "        vertical-align: top;\n",
       "    }\n",
       "\n",
       "    .dataframe thead th {\n",
       "        text-align: right;\n",
       "    }\n",
       "</style>\n",
       "<table border=\"1\" class=\"dataframe\">\n",
       "  <thead>\n",
       "    <tr style=\"text-align: right;\">\n",
       "      <th>Sexo</th>\n",
       "      <th>Frequência</th>\n",
       "      <th>Porcentual</th>\n",
       "    </tr>\n",
       "  </thead>\n",
       "  <tbody>\n",
       "    <tr>\n",
       "      <th>Feminino</th>\n",
       "      <td>539436</td>\n",
       "      <td>61.862281</td>\n",
       "    </tr>\n",
       "    <tr>\n",
       "      <th>Masculino</th>\n",
       "      <td>332548</td>\n",
       "      <td>38.136457</td>\n",
       "    </tr>\n",
       "    <tr>\n",
       "      <th>Não informado</th>\n",
       "      <td>11</td>\n",
       "      <td>0.001261</td>\n",
       "    </tr>\n",
       "  </tbody>\n",
       "</table>\n",
       "</div>"
      ],
      "text/plain": [
       "Sexo           Frequência  Porcentual\n",
       "Feminino           539436   61.862281\n",
       "Masculino          332548   38.136457\n",
       "Não informado          11    0.001261"
      ]
     },
     "execution_count": 63,
     "metadata": {},
     "output_type": "execute_result"
    }
   ],
   "source": [
    "dist_freq_qualitativa_sexo"
   ]
  },
  {
   "cell_type": "code",
   "execution_count": 73,
   "id": "d55be017-82d8-4635-9946-cea147f7e8b4",
   "metadata": {},
   "outputs": [
    {
     "data": {
      "image/png": "[encoded data removed]",
      "text/plain": [
       "<Figure size 432x288 with 1 Axes>"
      ]
     },
     "metadata": {
      "needs_background": "light"
     },
     "output_type": "display_data"
    }
   ],
   "source": [
    "dist_freq_qualitativa_sexo['Frequência'].plot(kind='bar');"
   ]
  },
  {
   "cell_type": "code",
   "execution_count": null,
   "id": "5232f75d-27ab-4c44-8948-ee148761f474",
   "metadata": {},
   "outputs": [],
   "source": [
    "#criando crosstable entre sexo e cor"
   ]
  },
  {
   "cell_type": "code",
   "execution_count": 82,
   "id": "42bb91fb-3520-4c17-80bd-8ca90a583e10",
   "metadata": {},
   "outputs": [],
   "source": [
    "sexo = {'F': 'Feminino',\n",
    "        'I': 'Não informado',\n",
    "        'M': 'Masculino'\n",
    "        }\n",
    "\n",
    "cor_pele = {1: 'Branca',\n",
    "            2: 'Negro',\n",
    "            3: 'Amarela',\n",
    "            4: 'Indígena',\n",
    "            5: 'Ignorado',\n",
    "            11: 'Parda',\n",
    "            12: 'Sem Informação'\n",
    "            }"
   ]
  },
  {
   "cell_type": "code",
   "execution_count": 83,
   "id": "433279b3-2599-4500-88ea-146c61763b5c",
   "metadata": {},
   "outputs": [],
   "source": [
    "frequencia_cor_sexo = pd.crosstab(df['IE_SEXO'], df['NR_SEQ_COR_PELE'])\n",
    "\n",
    "frequencia_cor_sexo.rename(index = sexo, inplace = True)\n",
    "frequencia_cor_sexo.rename(columns = cor_pele, inplace = True)"
   ]
  },
  {
   "cell_type": "code",
   "execution_count": 84,
   "id": "cffde5f7-cc04-42ed-abeb-0dff0984d729",
   "metadata": {},
   "outputs": [
    {
     "data": {
      "text/html": [
       "<div>\n",
       "<style scoped>\n",
       "    .dataframe tbody tr th:only-of-type {\n",
       "        vertical-align: middle;\n",
       "    }\n",
       "\n",
       "    .dataframe tbody tr th {\n",
       "        vertical-align: top;\n",
       "    }\n",
       "\n",
       "    .dataframe thead th {\n",
       "        text-align: right;\n",
       "    }\n",
       "</style>\n",
       "<table border=\"1\" class=\"dataframe\">\n",
       "  <thead>\n",
       "    <tr style=\"text-align: right;\">\n",
       "      <th>NR_SEQ_COR_PELE</th>\n",
       "      <th>Branca</th>\n",
       "      <th>Negro</th>\n",
       "      <th>Amarela</th>\n",
       "      <th>Indígena</th>\n",
       "      <th>Parda</th>\n",
       "      <th>Sem Informação</th>\n",
       "    </tr>\n",
       "    <tr>\n",
       "      <th>IE_SEXO</th>\n",
       "      <th></th>\n",
       "      <th></th>\n",
       "      <th></th>\n",
       "      <th></th>\n",
       "      <th></th>\n",
       "      <th></th>\n",
       "    </tr>\n",
       "  </thead>\n",
       "  <tbody>\n",
       "    <tr>\n",
       "      <th>Feminino</th>\n",
       "      <td>240495</td>\n",
       "      <td>33481</td>\n",
       "      <td>3536</td>\n",
       "      <td>20</td>\n",
       "      <td>102504</td>\n",
       "      <td>6587</td>\n",
       "    </tr>\n",
       "    <tr>\n",
       "      <th>Não informado</th>\n",
       "      <td>11</td>\n",
       "      <td>0</td>\n",
       "      <td>0</td>\n",
       "      <td>0</td>\n",
       "      <td>0</td>\n",
       "      <td>0</td>\n",
       "    </tr>\n",
       "    <tr>\n",
       "      <th>Masculino</th>\n",
       "      <td>159628</td>\n",
       "      <td>25600</td>\n",
       "      <td>2283</td>\n",
       "      <td>52</td>\n",
       "      <td>62975</td>\n",
       "      <td>4417</td>\n",
       "    </tr>\n",
       "  </tbody>\n",
       "</table>\n",
       "</div>"
      ],
      "text/plain": [
       "NR_SEQ_COR_PELE  Branca  Negro  Amarela  Indígena   Parda  Sem Informação\n",
       "IE_SEXO                                                                  \n",
       "Feminino         240495  33481     3536        20  102504            6587\n",
       "Não informado        11      0        0         0       0               0\n",
       "Masculino        159628  25600     2283        52   62975            4417"
      ]
     },
     "execution_count": 84,
     "metadata": {},
     "output_type": "execute_result"
    }
   ],
   "source": [
    "frequencia_cor_sexo"
   ]
  },
  {
   "cell_type": "markdown",
   "id": "e77fcc4e",
   "metadata": {},
   "source": [
    "# Analise gráfica dos dados"
   ]
  },
  {
   "cell_type": "code",
   "execution_count": null,
   "id": "eabc8e53",
   "metadata": {},
   "outputs": [],
   "source": [
    "#verificando o mês com mais visitas"
   ]
  },
  {
   "cell_type": "code",
   "execution_count": 262,
   "id": "345751b1",
   "metadata": {},
   "outputs": [
    {
     "data": {
      "text/plain": [
       "<AxesSubplot:xlabel='DS_MES', ylabel='Count'>"
      ]
     },
     "execution_count": 262,
     "metadata": {},
     "output_type": "execute_result"
    },
    {
     "data": {
      "image/png": "[encoded data removed]",
      "text/plain": [
       "<Figure size 864x576 with 1 Axes>"
      ]
     },
     "metadata": {
      "needs_background": "light"
     },
     "output_type": "display_data"
    }
   ],
   "source": [
    "plt.subplots(figsize=(12, 8))\n",
    "\n",
    "sns.histplot(data=df, x='DS_MES')"
   ]
  },
  {
   "cell_type": "code",
   "execution_count": 177,
   "id": "7cd2b463",
   "metadata": {},
   "outputs": [],
   "source": [
    "#filtrando somente os registros de Agosto\n",
    "acesso_mes_agosto = df[(df['DS_MES'] == 'Agosto')]"
   ]
  },
  {
   "cell_type": "code",
   "execution_count": 205,
   "id": "4bbb5fe2",
   "metadata": {},
   "outputs": [],
   "source": [
    "quant_acesso_ds = acesso_mes_agosto.groupby('DS_DIA_SEMANA').count()['TP_ATENDIMENTO']"
   ]
  },
  {
   "cell_type": "code",
   "execution_count": 260,
   "id": "cba915dc",
   "metadata": {},
   "outputs": [
    {
     "data": {
      "image/png": "[encoded data removed]",
      "text/plain": [
       "<Figure size 720x576 with 1 Axes>"
      ]
     },
     "metadata": {
      "needs_background": "light"
     },
     "output_type": "display_data"
    }
   ],
   "source": [
    "#quantidade de acesso por dias da semana, do mês com maior quantidade de acesso\n",
    "plt.subplots(figsize=(10, 8))\n",
    "\n",
    "quant_acesso_ds.plot(kind='bar');"
   ]
  },
  {
   "cell_type": "code",
   "execution_count": 252,
   "id": "bdf49dfc",
   "metadata": {},
   "outputs": [
    {
     "data": {
      "image/png": "[encoded data removed]",
      "text/plain": [
       "<Figure size 720x360 with 1 Axes>"
      ]
     },
     "metadata": {
      "needs_background": "light"
     },
     "output_type": "display_data"
    }
   ],
   "source": [
    "#quantidade de visitas no dia da semana por tipo\n",
    "plt.subplots(figsize=(10, 5))\n",
    "\n",
    "sns.histplot(data=acesso_mes_agosto, x='DS_DIA_SEMANA', hue='DS_TIPO2', multiple=\"dodge\");"
   ]
  },
  {
   "cell_type": "code",
   "execution_count": 267,
   "id": "b8cba122",
   "metadata": {},
   "outputs": [
    {
     "data": {
      "image/png": "[encoded data removed]",
      "text/plain": [
       "<Figure size 720x360 with 1 Axes>"
      ]
     },
     "metadata": {},
     "output_type": "display_data"
    }
   ],
   "source": [
    "#proporção de visitas por turno\n",
    "plt.subplots(figsize=(10, 5))\n",
    "\n",
    "df['DS_TURNO'].value_counts().plot(kind='pie');"
   ]
  }
 ],
 "metadata": {
  "kernelspec": {
   "display_name": "Python 3 (ipykernel)",
   "language": "python",
   "name": "python3"
  },
  "language_info": {
   "codemirror_mode": {
    "name": "ipython",
    "version": 3
   },
   "file_extension": ".py",
   "mimetype": "text/x-python",
   "name": "python",
   "nbconvert_exporter": "python",
   "pygments_lexer": "ipython3",
   "version": "3.9.12"
  }
 },
 "nbformat": 4,
 "nbformat_minor": 5
}
